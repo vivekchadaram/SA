{
 "cells": [
  {
   "cell_type": "code",
   "execution_count": 1,
   "id": "26b705ae",
   "metadata": {},
   "outputs": [],
   "source": [
    "import numpy as np\n",
    "import matplotlib.pyplot as plt\n",
    "import pandas as pd"
   ]
  },
  {
   "cell_type": "code",
   "execution_count": 2,
   "id": "995c21dd",
   "metadata": {},
   "outputs": [
    {
     "data": {
      "text/html": [
       "<div>\n",
       "<style scoped>\n",
       "    .dataframe tbody tr th:only-of-type {\n",
       "        vertical-align: middle;\n",
       "    }\n",
       "\n",
       "    .dataframe tbody tr th {\n",
       "        vertical-align: top;\n",
       "    }\n",
       "\n",
       "    .dataframe thead th {\n",
       "        text-align: right;\n",
       "    }\n",
       "</style>\n",
       "<table border=\"1\" class=\"dataframe\">\n",
       "  <thead>\n",
       "    <tr style=\"text-align: right;\">\n",
       "      <th></th>\n",
       "      <th>id</th>\n",
       "      <th>dateAdded</th>\n",
       "      <th>dateUpdated</th>\n",
       "      <th>name</th>\n",
       "      <th>asins</th>\n",
       "      <th>brand</th>\n",
       "      <th>categories</th>\n",
       "      <th>primaryCategories</th>\n",
       "      <th>imageURLs</th>\n",
       "      <th>keys</th>\n",
       "      <th>...</th>\n",
       "      <th>reviews.dateSeen</th>\n",
       "      <th>reviews.doRecommend</th>\n",
       "      <th>reviews.id</th>\n",
       "      <th>reviews.numHelpful</th>\n",
       "      <th>reviews.rating</th>\n",
       "      <th>reviews.sourceURLs</th>\n",
       "      <th>reviews.text</th>\n",
       "      <th>reviews.title</th>\n",
       "      <th>reviews.username</th>\n",
       "      <th>sourceURLs</th>\n",
       "    </tr>\n",
       "  </thead>\n",
       "  <tbody>\n",
       "    <tr>\n",
       "      <th>0</th>\n",
       "      <td>AVqVGZNvQMlgsOJE6eUY</td>\n",
       "      <td>2017-03-03T16:56:05Z</td>\n",
       "      <td>2018-10-25T16:36:31Z</td>\n",
       "      <td>Amazon Kindle E-Reader 6\" Wifi (8th Generation...</td>\n",
       "      <td>B00ZV9PXP2</td>\n",
       "      <td>Amazon</td>\n",
       "      <td>Computers,Electronics Features,Tablets,Electro...</td>\n",
       "      <td>Electronics</td>\n",
       "      <td>https://pisces.bbystatic.com/image2/BestBuy_US...</td>\n",
       "      <td>allnewkindleereaderblack6glarefreetouchscreend...</td>\n",
       "      <td>...</td>\n",
       "      <td>2018-05-27T00:00:00Z,2017-09-18T00:00:00Z,2017...</td>\n",
       "      <td>False</td>\n",
       "      <td>NaN</td>\n",
       "      <td>0</td>\n",
       "      <td>3</td>\n",
       "      <td>http://reviews.bestbuy.com/3545/5442403/review...</td>\n",
       "      <td>I thought it would be as big as small paper bu...</td>\n",
       "      <td>Too small</td>\n",
       "      <td>llyyue</td>\n",
       "      <td>https://www.newegg.com/Product/Product.aspx%25...</td>\n",
       "    </tr>\n",
       "    <tr>\n",
       "      <th>1</th>\n",
       "      <td>AVqVGZNvQMlgsOJE6eUY</td>\n",
       "      <td>2017-03-03T16:56:05Z</td>\n",
       "      <td>2018-10-25T16:36:31Z</td>\n",
       "      <td>Amazon Kindle E-Reader 6\" Wifi (8th Generation...</td>\n",
       "      <td>B00ZV9PXP2</td>\n",
       "      <td>Amazon</td>\n",
       "      <td>Computers,Electronics Features,Tablets,Electro...</td>\n",
       "      <td>Electronics</td>\n",
       "      <td>https://pisces.bbystatic.com/image2/BestBuy_US...</td>\n",
       "      <td>allnewkindleereaderblack6glarefreetouchscreend...</td>\n",
       "      <td>...</td>\n",
       "      <td>2018-05-27T00:00:00Z,2017-07-07T00:00:00Z,2017...</td>\n",
       "      <td>True</td>\n",
       "      <td>NaN</td>\n",
       "      <td>0</td>\n",
       "      <td>5</td>\n",
       "      <td>http://reviews.bestbuy.com/3545/5442403/review...</td>\n",
       "      <td>This kindle is light and easy to use especiall...</td>\n",
       "      <td>Great light reader. Easy to use at the beach</td>\n",
       "      <td>Charmi</td>\n",
       "      <td>https://www.newegg.com/Product/Product.aspx%25...</td>\n",
       "    </tr>\n",
       "    <tr>\n",
       "      <th>2</th>\n",
       "      <td>AVqVGZNvQMlgsOJE6eUY</td>\n",
       "      <td>2017-03-03T16:56:05Z</td>\n",
       "      <td>2018-10-25T16:36:31Z</td>\n",
       "      <td>Amazon Kindle E-Reader 6\" Wifi (8th Generation...</td>\n",
       "      <td>B00ZV9PXP2</td>\n",
       "      <td>Amazon</td>\n",
       "      <td>Computers,Electronics Features,Tablets,Electro...</td>\n",
       "      <td>Electronics</td>\n",
       "      <td>https://pisces.bbystatic.com/image2/BestBuy_US...</td>\n",
       "      <td>allnewkindleereaderblack6glarefreetouchscreend...</td>\n",
       "      <td>...</td>\n",
       "      <td>2018-05-27T00:00:00Z</td>\n",
       "      <td>True</td>\n",
       "      <td>NaN</td>\n",
       "      <td>0</td>\n",
       "      <td>4</td>\n",
       "      <td>https://reviews.bestbuy.com/3545/5442403/revie...</td>\n",
       "      <td>Didnt know how much i'd use a kindle so went f...</td>\n",
       "      <td>Great for the price</td>\n",
       "      <td>johnnyjojojo</td>\n",
       "      <td>https://www.newegg.com/Product/Product.aspx%25...</td>\n",
       "    </tr>\n",
       "    <tr>\n",
       "      <th>3</th>\n",
       "      <td>AVqVGZNvQMlgsOJE6eUY</td>\n",
       "      <td>2017-03-03T16:56:05Z</td>\n",
       "      <td>2018-10-25T16:36:31Z</td>\n",
       "      <td>Amazon Kindle E-Reader 6\" Wifi (8th Generation...</td>\n",
       "      <td>B00ZV9PXP2</td>\n",
       "      <td>Amazon</td>\n",
       "      <td>Computers,Electronics Features,Tablets,Electro...</td>\n",
       "      <td>Electronics</td>\n",
       "      <td>https://pisces.bbystatic.com/image2/BestBuy_US...</td>\n",
       "      <td>allnewkindleereaderblack6glarefreetouchscreend...</td>\n",
       "      <td>...</td>\n",
       "      <td>2018-10-09T00:00:00Z</td>\n",
       "      <td>True</td>\n",
       "      <td>177283626.0</td>\n",
       "      <td>3</td>\n",
       "      <td>5</td>\n",
       "      <td>https://redsky.target.com/groot-domain-api/v1/...</td>\n",
       "      <td>I am 100 happy with my purchase. I caught it o...</td>\n",
       "      <td>A Great Buy</td>\n",
       "      <td>Kdperry</td>\n",
       "      <td>https://www.newegg.com/Product/Product.aspx%25...</td>\n",
       "    </tr>\n",
       "    <tr>\n",
       "      <th>4</th>\n",
       "      <td>AVqVGZNvQMlgsOJE6eUY</td>\n",
       "      <td>2017-03-03T16:56:05Z</td>\n",
       "      <td>2018-10-25T16:36:31Z</td>\n",
       "      <td>Amazon Kindle E-Reader 6\" Wifi (8th Generation...</td>\n",
       "      <td>B00ZV9PXP2</td>\n",
       "      <td>Amazon</td>\n",
       "      <td>Computers,Electronics Features,Tablets,Electro...</td>\n",
       "      <td>Electronics</td>\n",
       "      <td>https://pisces.bbystatic.com/image2/BestBuy_US...</td>\n",
       "      <td>allnewkindleereaderblack6glarefreetouchscreend...</td>\n",
       "      <td>...</td>\n",
       "      <td>2018-05-27T00:00:00Z</td>\n",
       "      <td>True</td>\n",
       "      <td>NaN</td>\n",
       "      <td>0</td>\n",
       "      <td>5</td>\n",
       "      <td>https://reviews.bestbuy.com/3545/5442403/revie...</td>\n",
       "      <td>Solid entry level Kindle. Great for kids. Gift...</td>\n",
       "      <td>Solid entry-level Kindle. Great for kids</td>\n",
       "      <td>Johnnyblack</td>\n",
       "      <td>https://www.newegg.com/Product/Product.aspx%25...</td>\n",
       "    </tr>\n",
       "  </tbody>\n",
       "</table>\n",
       "<p>5 rows × 24 columns</p>\n",
       "</div>"
      ],
      "text/plain": [
       "                     id             dateAdded           dateUpdated  \\\n",
       "0  AVqVGZNvQMlgsOJE6eUY  2017-03-03T16:56:05Z  2018-10-25T16:36:31Z   \n",
       "1  AVqVGZNvQMlgsOJE6eUY  2017-03-03T16:56:05Z  2018-10-25T16:36:31Z   \n",
       "2  AVqVGZNvQMlgsOJE6eUY  2017-03-03T16:56:05Z  2018-10-25T16:36:31Z   \n",
       "3  AVqVGZNvQMlgsOJE6eUY  2017-03-03T16:56:05Z  2018-10-25T16:36:31Z   \n",
       "4  AVqVGZNvQMlgsOJE6eUY  2017-03-03T16:56:05Z  2018-10-25T16:36:31Z   \n",
       "\n",
       "                                                name       asins   brand  \\\n",
       "0  Amazon Kindle E-Reader 6\" Wifi (8th Generation...  B00ZV9PXP2  Amazon   \n",
       "1  Amazon Kindle E-Reader 6\" Wifi (8th Generation...  B00ZV9PXP2  Amazon   \n",
       "2  Amazon Kindle E-Reader 6\" Wifi (8th Generation...  B00ZV9PXP2  Amazon   \n",
       "3  Amazon Kindle E-Reader 6\" Wifi (8th Generation...  B00ZV9PXP2  Amazon   \n",
       "4  Amazon Kindle E-Reader 6\" Wifi (8th Generation...  B00ZV9PXP2  Amazon   \n",
       "\n",
       "                                          categories primaryCategories  \\\n",
       "0  Computers,Electronics Features,Tablets,Electro...       Electronics   \n",
       "1  Computers,Electronics Features,Tablets,Electro...       Electronics   \n",
       "2  Computers,Electronics Features,Tablets,Electro...       Electronics   \n",
       "3  Computers,Electronics Features,Tablets,Electro...       Electronics   \n",
       "4  Computers,Electronics Features,Tablets,Electro...       Electronics   \n",
       "\n",
       "                                           imageURLs  \\\n",
       "0  https://pisces.bbystatic.com/image2/BestBuy_US...   \n",
       "1  https://pisces.bbystatic.com/image2/BestBuy_US...   \n",
       "2  https://pisces.bbystatic.com/image2/BestBuy_US...   \n",
       "3  https://pisces.bbystatic.com/image2/BestBuy_US...   \n",
       "4  https://pisces.bbystatic.com/image2/BestBuy_US...   \n",
       "\n",
       "                                                keys  ...  \\\n",
       "0  allnewkindleereaderblack6glarefreetouchscreend...  ...   \n",
       "1  allnewkindleereaderblack6glarefreetouchscreend...  ...   \n",
       "2  allnewkindleereaderblack6glarefreetouchscreend...  ...   \n",
       "3  allnewkindleereaderblack6glarefreetouchscreend...  ...   \n",
       "4  allnewkindleereaderblack6glarefreetouchscreend...  ...   \n",
       "\n",
       "                                    reviews.dateSeen reviews.doRecommend  \\\n",
       "0  2018-05-27T00:00:00Z,2017-09-18T00:00:00Z,2017...               False   \n",
       "1  2018-05-27T00:00:00Z,2017-07-07T00:00:00Z,2017...                True   \n",
       "2                               2018-05-27T00:00:00Z                True   \n",
       "3                               2018-10-09T00:00:00Z                True   \n",
       "4                               2018-05-27T00:00:00Z                True   \n",
       "\n",
       "    reviews.id reviews.numHelpful reviews.rating  \\\n",
       "0          NaN                  0              3   \n",
       "1          NaN                  0              5   \n",
       "2          NaN                  0              4   \n",
       "3  177283626.0                  3              5   \n",
       "4          NaN                  0              5   \n",
       "\n",
       "                                  reviews.sourceURLs  \\\n",
       "0  http://reviews.bestbuy.com/3545/5442403/review...   \n",
       "1  http://reviews.bestbuy.com/3545/5442403/review...   \n",
       "2  https://reviews.bestbuy.com/3545/5442403/revie...   \n",
       "3  https://redsky.target.com/groot-domain-api/v1/...   \n",
       "4  https://reviews.bestbuy.com/3545/5442403/revie...   \n",
       "\n",
       "                                        reviews.text  \\\n",
       "0  I thought it would be as big as small paper bu...   \n",
       "1  This kindle is light and easy to use especiall...   \n",
       "2  Didnt know how much i'd use a kindle so went f...   \n",
       "3  I am 100 happy with my purchase. I caught it o...   \n",
       "4  Solid entry level Kindle. Great for kids. Gift...   \n",
       "\n",
       "                                  reviews.title  reviews.username  \\\n",
       "0                                     Too small            llyyue   \n",
       "1  Great light reader. Easy to use at the beach            Charmi   \n",
       "2                           Great for the price      johnnyjojojo   \n",
       "3                                   A Great Buy           Kdperry   \n",
       "4      Solid entry-level Kindle. Great for kids       Johnnyblack   \n",
       "\n",
       "                                          sourceURLs  \n",
       "0  https://www.newegg.com/Product/Product.aspx%25...  \n",
       "1  https://www.newegg.com/Product/Product.aspx%25...  \n",
       "2  https://www.newegg.com/Product/Product.aspx%25...  \n",
       "3  https://www.newegg.com/Product/Product.aspx%25...  \n",
       "4  https://www.newegg.com/Product/Product.aspx%25...  \n",
       "\n",
       "[5 rows x 24 columns]"
      ]
     },
     "execution_count": 2,
     "metadata": {},
     "output_type": "execute_result"
    }
   ],
   "source": [
    "dataset = pd.read_csv('Amazon_Reviews_2021.csv')\n",
    "dataset.head()"
   ]
  },
  {
   "cell_type": "code",
   "execution_count": 3,
   "id": "885ba37d",
   "metadata": {},
   "outputs": [
    {
     "data": {
      "text/html": [
       "<div>\n",
       "<style scoped>\n",
       "    .dataframe tbody tr th:only-of-type {\n",
       "        vertical-align: middle;\n",
       "    }\n",
       "\n",
       "    .dataframe tbody tr th {\n",
       "        vertical-align: top;\n",
       "    }\n",
       "\n",
       "    .dataframe thead th {\n",
       "        text-align: right;\n",
       "    }\n",
       "</style>\n",
       "<table border=\"1\" class=\"dataframe\">\n",
       "  <thead>\n",
       "    <tr style=\"text-align: right;\">\n",
       "      <th></th>\n",
       "      <th>reviews.doRecommend</th>\n",
       "      <th>reviews.text</th>\n",
       "    </tr>\n",
       "  </thead>\n",
       "  <tbody>\n",
       "    <tr>\n",
       "      <th>0</th>\n",
       "      <td>False</td>\n",
       "      <td>I thought it would be as big as small paper bu...</td>\n",
       "    </tr>\n",
       "    <tr>\n",
       "      <th>1</th>\n",
       "      <td>True</td>\n",
       "      <td>This kindle is light and easy to use especiall...</td>\n",
       "    </tr>\n",
       "    <tr>\n",
       "      <th>2</th>\n",
       "      <td>True</td>\n",
       "      <td>Didnt know how much i'd use a kindle so went f...</td>\n",
       "    </tr>\n",
       "    <tr>\n",
       "      <th>3</th>\n",
       "      <td>True</td>\n",
       "      <td>I am 100 happy with my purchase. I caught it o...</td>\n",
       "    </tr>\n",
       "    <tr>\n",
       "      <th>4</th>\n",
       "      <td>True</td>\n",
       "      <td>Solid entry level Kindle. Great for kids. Gift...</td>\n",
       "    </tr>\n",
       "    <tr>\n",
       "      <th>5</th>\n",
       "      <td>False</td>\n",
       "      <td>This make an excellent ebook reader. Don't exp...</td>\n",
       "    </tr>\n",
       "  </tbody>\n",
       "</table>\n",
       "</div>"
      ],
      "text/plain": [
       "   reviews.doRecommend                                       reviews.text\n",
       "0                False  I thought it would be as big as small paper bu...\n",
       "1                 True  This kindle is light and easy to use especiall...\n",
       "2                 True  Didnt know how much i'd use a kindle so went f...\n",
       "3                 True  I am 100 happy with my purchase. I caught it o...\n",
       "4                 True  Solid entry level Kindle. Great for kids. Gift...\n",
       "5                False  This make an excellent ebook reader. Don't exp..."
      ]
     },
     "execution_count": 3,
     "metadata": {},
     "output_type": "execute_result"
    }
   ],
   "source": [
    "dataset.iloc[0:6, [15,20]]"
   ]
  },
  {
   "cell_type": "code",
   "execution_count": 4,
   "id": "6517558b",
   "metadata": {},
   "outputs": [
    {
     "data": {
      "text/plain": [
       "0       0\n",
       "1       1\n",
       "2       1\n",
       "3       1\n",
       "4       1\n",
       "       ..\n",
       "4995    1\n",
       "4996    1\n",
       "4997    1\n",
       "4998    1\n",
       "4999    1\n",
       "Name: Y, Length: 5000, dtype: int64"
      ]
     },
     "execution_count": 4,
     "metadata": {},
     "output_type": "execute_result"
    }
   ],
   "source": [
    "dataset[\"Y\"]=dataset[\"reviews.doRecommend\"].copy()\n",
    "dataset[\"Y\"]=dataset[\"Y\"].apply(lambda x:1 if x==True else 0)\n",
    "dataset[\"Y\"]"
   ]
  },
  {
   "cell_type": "markdown",
   "id": "4cfca974",
   "metadata": {},
   "source": [
    "#### CLEANINIG TEXTS\n",
    "Stemming is the process of producing morphological variants of a root/base word. Stemming programs are commonly referred to as stemming algorithms or stemmers. A stemming algorithm reduces the words “chocolates”, “chocolatey”, “choco” to the root word, “chocolate” and “retrieval”, “retrieved”, “retrieves” reduce to the stem “retrieve”. Stemming is an important part of the pipelining process in Natural language processing. The input to the stemmer is tokenized words.\n",
    "\n",
    "Some more example of stemming for root word \"like\" include: ->\"likes\" ->\"liked\" ->\"likely\" ->\"liking\"\n",
    "\n",
    "https://www.geeksforgeeks.org/introduction-to-stemming/"
   ]
  },
  {
   "cell_type": "code",
   "execution_count": 5,
   "id": "7d99b131",
   "metadata": {},
   "outputs": [
    {
     "name": "stderr",
     "output_type": "stream",
     "text": [
      "[nltk_data] Downloading package stopwords to\n",
      "[nltk_data]     C:\\Users\\anura\\AppData\\Roaming\\nltk_data...\n",
      "[nltk_data]   Package stopwords is already up-to-date!\n"
     ]
    }
   ],
   "source": [
    "import re\n",
    "import nltk\n",
    "nltk.download('stopwords')\n",
    "from nltk.corpus import stopwords\n",
    "from nltk.stem.porter import PorterStemmer\n",
    "from nltk.stem.porter import PorterStemmer\n",
    "# to store clean sentences after removing stopwords....\n",
    "corpus=[]\n",
    "\n",
    "# now to operate on strings and text will use \"re\" module...\n",
    "for i in range(1000):\n",
    "    #basically it will replace all the characters which are not aplhabets(lower or upper),that is punctuations will be replaced\n",
    "    review=re.sub('[^a-zA-Z]',' ',dataset[\"reviews.text\"][i])\n",
    "    review=review.lower()\n",
    "    review=review.split()\n",
    "    ps=PorterStemmer()\n",
    "    # now we will remove irrevelant words isong stopwords and do stemming only on proper english words....\n",
    "    all_stopwords=stopwords.words(\"english\")\n",
    "    all_stopwords.remove(\"not\")\n",
    "    review=[ps.stem(word) for word in review if not word in set(all_stopwords)]\n",
    "    review=' '.join(review)\n",
    "    corpus.append(review)\n",
    "    \n",
    "    \n",
    "    \n",
    "    \n",
    "    \n"
   ]
  },
  {
   "cell_type": "code",
   "execution_count": 6,
   "id": "686eee80",
   "metadata": {},
   "outputs": [],
   "source": [
    "# corpus"
   ]
  },
  {
   "cell_type": "code",
   "execution_count": 7,
   "id": "171c2e46",
   "metadata": {},
   "outputs": [
    {
     "name": "stdout",
     "output_type": "stream",
     "text": [
      "(1000, 1500)\n",
      "(1000,)\n"
     ]
    }
   ],
   "source": [
    "from sklearn.feature_extraction.text import CountVectorizer\n",
    "cv=CountVectorizer(max_features=1500)\n",
    "# max_features's value is set at random.... u can change the value and test the result\n",
    "X=cv.fit_transform(corpus).toarray()\n",
    "y=dataset[\"Y\"].head(len(X)).values\n",
    "print(X.shape)\n",
    "print(y.shape)"
   ]
  },
  {
   "cell_type": "code",
   "execution_count": 8,
   "id": "ce1a91ff",
   "metadata": {},
   "outputs": [
    {
     "data": {
      "text/plain": [
       "1500"
      ]
     },
     "execution_count": 8,
     "metadata": {},
     "output_type": "execute_result"
    }
   ],
   "source": [
    "len(X[0])\n",
    "# so this shows that there are 1566 total different words...and each row of X shows frequency of occurency of all 1500 words \n",
    "# in a row.."
   ]
  },
  {
   "cell_type": "code",
   "execution_count": 9,
   "id": "b37d4e0d",
   "metadata": {},
   "outputs": [
    {
     "data": {
      "text/plain": [
       "(1000, 1500)"
      ]
     },
     "execution_count": 9,
     "metadata": {},
     "output_type": "execute_result"
    }
   ],
   "source": [
    "X.shape"
   ]
  },
  {
   "cell_type": "markdown",
   "id": "7bc1a4ee",
   "metadata": {},
   "source": [
    "### Splitting the dataset into the Training set and Test set"
   ]
  },
  {
   "cell_type": "code",
   "execution_count": 10,
   "id": "eac772f5",
   "metadata": {},
   "outputs": [],
   "source": [
    "from sklearn.model_selection import train_test_split\n",
    "X_train, X_test, y_train, y_test = train_test_split(X, y, test_size = 0.20, random_state = 0)"
   ]
  },
  {
   "cell_type": "markdown",
   "id": "3bab9bef",
   "metadata": {},
   "source": [
    "### Training the Naive Bayes model on the Training set"
   ]
  },
  {
   "cell_type": "code",
   "execution_count": 11,
   "id": "3c2c6cb1",
   "metadata": {},
   "outputs": [
    {
     "data": {
      "text/plain": [
       "GaussianNB()"
      ]
     },
     "execution_count": 11,
     "metadata": {},
     "output_type": "execute_result"
    }
   ],
   "source": [
    "from sklearn.naive_bayes import GaussianNB\n",
    "classifier = GaussianNB()\n",
    "classifier.fit(X_train, y_train)"
   ]
  },
  {
   "cell_type": "code",
   "execution_count": 12,
   "id": "89afaff4",
   "metadata": {},
   "outputs": [],
   "source": [
    "from sklearn.svm import SVC\n",
    "rbf_model = SVC(probability = True, kernel='rbf')\n",
    "y_svm=classifier.predict(X_test)"
   ]
  },
  {
   "cell_type": "code",
   "execution_count": 13,
   "id": "5b23b41b",
   "metadata": {},
   "outputs": [],
   "source": [
    "y_pred = classifier.predict(X_test)\n",
    "# print(np.concatenate((y_pred.reshape(len(y_pred),1), y_test.reshape(len(y_test),1)),1))"
   ]
  },
  {
   "cell_type": "markdown",
   "id": "9767619a",
   "metadata": {},
   "source": [
    "### Making the Confusion Matrix"
   ]
  },
  {
   "cell_type": "code",
   "execution_count": 14,
   "id": "96f99018",
   "metadata": {
    "scrolled": true
   },
   "outputs": [
    {
     "name": "stdout",
     "output_type": "stream",
     "text": [
      "Confusion Matrix:\n",
      "[[  0   5]\n",
      " [ 13 182]]\n",
      "\n",
      "Accuracy Score: 91.0 %\n",
      "The higher the accuracy score the higher the number of correct predictions.\n"
     ]
    }
   ],
   "source": [
    "from sklearn.metrics import confusion_matrix, accuracy_score,ConfusionMatrixDisplay,precision_score, recall_score\n",
    "cm = confusion_matrix(y_test, y_pred)\n",
    "print(\"Confusion Matrix:\")\n",
    "print(cm)\n",
    "print()\n",
    "accuracy = accuracy_score(y_test, y_pred)\n",
    "print('Accuracy Score:', accuracy*100,\"%\")\n",
    "print('The higher the accuracy score the higher the number of correct predictions.')\n"
   ]
  },
  {
   "cell_type": "code",
   "execution_count": 15,
   "id": "fd40bea6",
   "metadata": {},
   "outputs": [
    {
     "name": "stdout",
     "output_type": "stream",
     "text": [
      "Review no. 3: \n",
      "'Didnt know how much i'd use a kindle so went for the lower end. im happy with it, even if its a little dark'\n",
      "Actual recommendation of the third review: 1\n",
      "Predicted review recommendation for the third review: 1\n"
     ]
    }
   ],
   "source": [
    "# Testing how close did we get with the third review\n",
    "# Print the actual and predicted ratings of the third review\n",
    "\n",
    "print('Review no. 3:',\"\\n'{}'\".format(dataset['reviews.text'][2]))\n",
    "print('Actual recommendation of the third review:', y[2])\n",
    "print('Predicted review recommendation for the third review:', y_pred[2])\n"
   ]
  },
  {
   "cell_type": "code",
   "execution_count": 16,
   "id": "aade1d3e",
   "metadata": {},
   "outputs": [
    {
     "name": "stdout",
     "output_type": "stream",
     "text": [
      "Rounded Precision Score 0.973\n",
      "Precision Score in %: 97.3\n",
      "In 97.3 cases out 100, your model is correct.\n",
      "\n",
      "The higher the precision score the less false positives the model generates.\n",
      "\n",
      "Precision = true positives / (true positives + false positives)\n"
     ]
    }
   ],
   "source": [
    "# Model Precision: what percentage of positive cases are labeled as such\n",
    "# Precision = true positives/(true positives + false positives)\n",
    "# That is, precision tells us how many of the correctly predicted cases actually turned out to be positive.\n",
    "# The precision score is a useful measure of the success of prediction when the classes are very imbalanced.\n",
    "\n",
    "precision = precision_score(y_test, y_pred)\n",
    "\n",
    "print('Rounded Precision Score', round(precision, 3))\n",
    "print('Precision Score in %:', round(precision*100, 1))\n",
    "print('In', round(precision*100, 1), 'cases out 100, your model is correct.')\n",
    "print('\\nThe higher the precision score the less false positives the model generates.')\n",
    "print('\\nPrecision = true positives / (true positives + false positives)')\n",
    "\n"
   ]
  },
  {
   "cell_type": "code",
   "execution_count": 17,
   "id": "790692b8",
   "metadata": {},
   "outputs": [
    {
     "name": "stdout",
     "output_type": "stream",
     "text": [
      "Recall Score:  0.9333333333333333\n",
      "Recall Score in %: 93.3\n",
      "In 93.3 cases out 100, your model is correct.\n",
      "Recall = True Positives (TP) / (True Positives (TP) + False Negatives (FN))\n",
      "\n",
      "The higher the recall score the less false negatives the model generates.\n"
     ]
    }
   ],
   "source": [
    "recall = recall_score(y_test, y_pred)\n",
    "\n",
    "print('Recall Score: ', recall)\n",
    "print('Recall Score in %:', round(recall*100, 1))\n",
    "print('In', round(recall*100, 1), 'cases out 100, your model is correct.')\n",
    "print('Recall = True Positives (TP) / (True Positives (TP) + False Negatives (FN))')\n",
    "print('\\nThe higher the recall score the less false negatives the model generates.')\n"
   ]
  },
  {
   "cell_type": "code",
   "execution_count": 18,
   "id": "b546089c",
   "metadata": {},
   "outputs": [
    {
     "name": "stdout",
     "output_type": "stream",
     "text": [
      "F1 Score: 0.9528795811518325\n",
      "F1 Score in %: 95.3\n",
      "\n",
      "The higher the F1 score the more in balance the precision and recall are.\n"
     ]
    }
   ],
   "source": [
    "# F1 score\n",
    "from sklearn.metrics import f1_score\n",
    "\n",
    "f1_score = f1_score(y_test, y_pred, average='binary')\n",
    "\n",
    "print('F1 Score:', f1_score)\n",
    "print('F1 Score in %:', round(f1_score*100, 1))\n",
    "print('\\nThe higher the F1 score the more in balance the precision and recall are.')\n"
   ]
  },
  {
   "cell_type": "code",
   "execution_count": 19,
   "id": "925ea6d5",
   "metadata": {},
   "outputs": [
    {
     "name": "stdout",
     "output_type": "stream",
     "text": [
      "Classification report : \n",
      "               precision    recall  f1-score   support\n",
      "\n",
      "           1       0.97      0.93      0.95       195\n",
      "           0       0.00      0.00      0.00         5\n",
      "\n",
      "    accuracy                           0.91       200\n",
      "   macro avg       0.49      0.47      0.48       200\n",
      "weighted avg       0.95      0.91      0.93       200\n",
      "\n"
     ]
    }
   ],
   "source": [
    "from sklearn.metrics import confusion_matrix\n",
    "from sklearn.metrics import classification_report\n",
    "\n",
    "# classification report for precision, recall f1-score and accuracy\n",
    "matrix = classification_report(y_test, y_pred,labels=[1,0])\n",
    "print('Classification report : \\n', matrix)\n"
   ]
  },
  {
   "cell_type": "code",
   "execution_count": 20,
   "id": "b54dd973",
   "metadata": {},
   "outputs": [
    {
     "name": "stdout",
     "output_type": "stream",
     "text": [
      "Confusion matrix: \n",
      " \n",
      " [[182  13]\n",
      " [  5   0]] \n",
      "\n",
      "Confusion Matrix Explained: \n",
      " \n",
      " True Positives (TP) | False Negatives (FN) \n",
      " False Positives (FP) | True Negatives (TN)\n",
      "\n",
      " Outcome values: \n",
      "  \n",
      " Correctly predicted recommendations (True Positives): 182  \n",
      " Falsely predicted non-recommendations (False Negatives): 13  \n",
      " Falsely predicted recommendations (False Positives): 5  \n",
      " Correctly predicted non-recommendations (True Negatives): 0 \n",
      "\n"
     ]
    }
   ],
   "source": [
    "# confusion matrix in sklearn\n",
    "from sklearn.metrics import confusion_matrix\n",
    "from sklearn.metrics import classification_report\n",
    "\n",
    "# confusion matrix\n",
    "# we label recommended reviews as 1 (positive) and non-recommended as 0 (negative)\n",
    "matrix = confusion_matrix(y_test, y_pred, labels=[1,0])\n",
    "print('Confusion matrix: \\n \\n', matrix, '\\n')\n",
    "print('Confusion Matrix Explained: \\n \\n True Positives (TP) | False Negatives (FN) \\n False Positives (FP) | True Negatives (TN)')\n",
    "\n",
    "# outcome values order in sklearn\n",
    "# tp = correctly predicted positives (true positives), fn = false negatives, fp = false positives, tn = correctly predicted negatives (true negatives)\n",
    "tp, fn, fp, tn = confusion_matrix(y_test, y_pred, labels=[1,0]).reshape(-1)\n",
    "print('\\n Outcome values: \\n', ' \\n Correctly predicted recommendations (True Positives):', tp, ' \\n Falsely predicted non-recommendations (False Negatives):', fn, ' \\n Falsely predicted recommendations (False Positives):', fp, ' \\n Correctly predicted non-recommendations (True Negatives):', tn, '\\n')\n"
   ]
  },
  {
   "cell_type": "code",
   "execution_count": 23,
   "id": "f7069577",
   "metadata": {},
   "outputs": [
    {
     "data": {
      "image/png": "[encoded data removed]",
      "text/plain": [
       "<Figure size 432x288 with 2 Axes>"
      ]
     },
     "metadata": {
      "needs_background": "light"
     },
     "output_type": "display_data"
    }
   ],
   "source": [
    "from sklearn.svm import SVC\n",
    "\n",
    "clf = SVC(probability = True, kernel='rbf')\n",
    "clf.fit(X_train, y_train)\n",
    "\n",
    "from sklearn.metrics import confusion_matrix, ConfusionMatrixDisplay\n",
    "\n",
    "c_matrix = confusion_matrix(y_pred, y_test, labels=clf.classes_)\n",
    "disp = ConfusionMatrixDisplay(confusion_matrix=c_matrix, display_labels=clf.classes_)\n",
    "disp.plot()\n",
    "plt.show()\n"
   ]
  },
  {
   "cell_type": "code",
   "execution_count": 24,
   "id": "36f67557",
   "metadata": {},
   "outputs": [
    {
     "name": "stdout",
     "output_type": "stream",
     "text": [
      "Number of False Positives: 18\n",
      "Number of Reviews: 200\n",
      "[False False False False False False  True  True False False False False\n",
      " False False False False False False False  True False False False False\n",
      " False False False False False False False False False False False False\n",
      "  True False False False False False False False False False False False\n",
      " False False False False False False False  True  True False False  True\n",
      " False False  True False False  True False False  True False False False\n",
      " False False False False False False False False False False False False\n",
      "  True False False False False False False False False False False False\n",
      " False False False False False False False False False False False False\n",
      " False False False False  True False False False False False False False\n",
      " False False False False False False False False False False False False\n",
      " False False False False False False False False False False False False\n",
      " False False False False False False False False False False False False\n",
      " False False False False False False  True False  True False False False\n",
      " False False False False False False False  True False False  True False\n",
      " False False False False False False False False False  True False False\n",
      " False  True False False False False False False]\n"
     ]
    },
    {
     "data": {
      "text/html": [
       "<div>\n",
       "<style scoped>\n",
       "    .dataframe tbody tr th:only-of-type {\n",
       "        vertical-align: middle;\n",
       "    }\n",
       "\n",
       "    .dataframe tbody tr th {\n",
       "        vertical-align: top;\n",
       "    }\n",
       "\n",
       "    .dataframe thead th {\n",
       "        text-align: right;\n",
       "    }\n",
       "</style>\n",
       "<table border=\"1\" class=\"dataframe\">\n",
       "  <thead>\n",
       "    <tr style=\"text-align: right;\">\n",
       "      <th></th>\n",
       "      <th>0</th>\n",
       "      <th>1</th>\n",
       "      <th>2</th>\n",
       "      <th>3</th>\n",
       "      <th>4</th>\n",
       "      <th>5</th>\n",
       "      <th>6</th>\n",
       "      <th>7</th>\n",
       "      <th>8</th>\n",
       "      <th>9</th>\n",
       "      <th>...</th>\n",
       "      <th>1490</th>\n",
       "      <th>1491</th>\n",
       "      <th>1492</th>\n",
       "      <th>1493</th>\n",
       "      <th>1494</th>\n",
       "      <th>1495</th>\n",
       "      <th>1496</th>\n",
       "      <th>1497</th>\n",
       "      <th>1498</th>\n",
       "      <th>1499</th>\n",
       "    </tr>\n",
       "  </thead>\n",
       "  <tbody>\n",
       "    <tr>\n",
       "      <th>False</th>\n",
       "      <td>0</td>\n",
       "      <td>0</td>\n",
       "      <td>0</td>\n",
       "      <td>0</td>\n",
       "      <td>0</td>\n",
       "      <td>0</td>\n",
       "      <td>0</td>\n",
       "      <td>0</td>\n",
       "      <td>0</td>\n",
       "      <td>0</td>\n",
       "      <td>...</td>\n",
       "      <td>0</td>\n",
       "      <td>0</td>\n",
       "      <td>0</td>\n",
       "      <td>0</td>\n",
       "      <td>0</td>\n",
       "      <td>0</td>\n",
       "      <td>0</td>\n",
       "      <td>0</td>\n",
       "      <td>0</td>\n",
       "      <td>0</td>\n",
       "    </tr>\n",
       "    <tr>\n",
       "      <th>False</th>\n",
       "      <td>0</td>\n",
       "      <td>0</td>\n",
       "      <td>0</td>\n",
       "      <td>0</td>\n",
       "      <td>0</td>\n",
       "      <td>0</td>\n",
       "      <td>0</td>\n",
       "      <td>0</td>\n",
       "      <td>0</td>\n",
       "      <td>0</td>\n",
       "      <td>...</td>\n",
       "      <td>0</td>\n",
       "      <td>0</td>\n",
       "      <td>0</td>\n",
       "      <td>0</td>\n",
       "      <td>0</td>\n",
       "      <td>0</td>\n",
       "      <td>0</td>\n",
       "      <td>0</td>\n",
       "      <td>0</td>\n",
       "      <td>0</td>\n",
       "    </tr>\n",
       "    <tr>\n",
       "      <th>False</th>\n",
       "      <td>0</td>\n",
       "      <td>0</td>\n",
       "      <td>0</td>\n",
       "      <td>0</td>\n",
       "      <td>0</td>\n",
       "      <td>0</td>\n",
       "      <td>0</td>\n",
       "      <td>0</td>\n",
       "      <td>0</td>\n",
       "      <td>0</td>\n",
       "      <td>...</td>\n",
       "      <td>0</td>\n",
       "      <td>0</td>\n",
       "      <td>0</td>\n",
       "      <td>0</td>\n",
       "      <td>0</td>\n",
       "      <td>0</td>\n",
       "      <td>0</td>\n",
       "      <td>0</td>\n",
       "      <td>0</td>\n",
       "      <td>0</td>\n",
       "    </tr>\n",
       "    <tr>\n",
       "      <th>False</th>\n",
       "      <td>0</td>\n",
       "      <td>1</td>\n",
       "      <td>0</td>\n",
       "      <td>0</td>\n",
       "      <td>0</td>\n",
       "      <td>0</td>\n",
       "      <td>0</td>\n",
       "      <td>0</td>\n",
       "      <td>0</td>\n",
       "      <td>0</td>\n",
       "      <td>...</td>\n",
       "      <td>0</td>\n",
       "      <td>0</td>\n",
       "      <td>0</td>\n",
       "      <td>0</td>\n",
       "      <td>0</td>\n",
       "      <td>0</td>\n",
       "      <td>0</td>\n",
       "      <td>0</td>\n",
       "      <td>0</td>\n",
       "      <td>0</td>\n",
       "    </tr>\n",
       "  </tbody>\n",
       "</table>\n",
       "<p>4 rows × 1500 columns</p>\n",
       "</div>"
      ],
      "text/plain": [
       "       0     1     2     3     4     5     6     7     8     9     ...  1490  \\\n",
       "False     0     0     0     0     0     0     0     0     0     0  ...     0   \n",
       "False     0     0     0     0     0     0     0     0     0     0  ...     0   \n",
       "False     0     0     0     0     0     0     0     0     0     0  ...     0   \n",
       "False     0     1     0     0     0     0     0     0     0     0  ...     0   \n",
       "\n",
       "       1491  1492  1493  1494  1495  1496  1497  1498  1499  \n",
       "False     0     0     0     0     0     0     0     0     0  \n",
       "False     0     0     0     0     0     0     0     0     0  \n",
       "False     0     0     0     0     0     0     0     0     0  \n",
       "False     0     0     0     0     0     0     0     0     0  \n",
       "\n",
       "[4 rows x 1500 columns]"
      ]
     },
     "execution_count": 24,
     "metadata": {},
     "output_type": "execute_result"
    }
   ],
   "source": [
    "false_positives = (y_test == 0) == (y_pred == 1)\n",
    "print('Number of False Positives:', sum(false_positives))\n",
    "\n",
    "false_positives_list = pd.DataFrame( X_test, false_positives)\n",
    "print('Number of Reviews:', len(false_positives_list))\n",
    "print(false_positives)\n",
    "false_positives_list.iloc[0:4]\n"
   ]
  },
  {
   "cell_type": "code",
   "execution_count": null,
   "id": "78d65c0d",
   "metadata": {},
   "outputs": [],
   "source": []
  },
  {
   "cell_type": "code",
   "execution_count": null,
   "id": "da761175",
   "metadata": {},
   "outputs": [],
   "source": []
  }
 ],
 "metadata": {
  "kernelspec": {
   "display_name": "Python 3 (ipykernel)",
   "language": "python",
   "name": "python3"
  },
  "language_info": {
   "codemirror_mode": {
    "name": "ipython",
    "version": 3
   },
   "file_extension": ".py",
   "mimetype": "text/x-python",
   "name": "python",
   "nbconvert_exporter": "python",
   "pygments_lexer": "ipython3",
   "version": "3.10.0"
  }
 },
 "nbformat": 4,
 "nbformat_minor": 5
}
